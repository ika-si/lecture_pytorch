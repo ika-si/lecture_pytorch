{
  "nbformat": 4,
  "nbformat_minor": 0,
  "metadata": {
    "colab": {
      "name": "exercise.ipynb",
      "provenance": [],
      "collapsed_sections": [],
      "include_colab_link": true
    },
    "kernelspec": {
      "name": "python3",
      "display_name": "Python 3"
    }
  },
  "cells": [
    {
      "cell_type": "markdown",
      "metadata": {
        "id": "view-in-github",
        "colab_type": "text"
      },
      "source": [
        "<a href=\"https://colab.research.google.com/github/ika-si/lecture_pytorch/blob/master/lecture2/exercise.ipynb\" target=\"_parent\"><img src=\"https://colab.research.google.com/assets/colab-badge.svg\" alt=\"Open In Colab\"/></a>"
      ]
    },
    {
      "cell_type": "markdown",
      "metadata": {
        "id": "Niaz8_W6OX34"
      },
      "source": [
        "# 演習\n",
        "第2講の演習です。  \n",
        "PyTorchを使ってモデルを構築し、最適化アルゴリズムを設定しましょう。\n"
      ]
    },
    {
      "cell_type": "markdown",
      "metadata": {
        "id": "w40h1X0FXmrh"
      },
      "source": [
        "## データを訓練用とテスト用に分割"
      ]
    },
    {
      "cell_type": "code",
      "metadata": {
        "id": "GLGwXks542pJ"
      },
      "source": [
        "import torch\n",
        "from sklearn import datasets\n",
        "from sklearn.model_selection import train_test_split\n",
        "\n",
        "digits_data = datasets.load_digits()\n",
        "\n",
        "digit_images = digits_data.data\n",
        "labels = digits_data.target\n",
        "x_train, x_test, t_train, t_test = train_test_split(digit_images, labels)  # 25%がテスト用\n",
        "\n",
        "# Tensorに変換\n",
        "x_train = torch.tensor(x_train, dtype=torch.float32)\n",
        "t_train = torch.tensor(t_train, dtype=torch.int64) \n",
        "x_test = torch.tensor(x_test, dtype=torch.float32)\n",
        "t_test = torch.tensor(t_test, dtype=torch.int64) "
      ],
      "execution_count": 1,
      "outputs": []
    },
    {
      "cell_type": "markdown",
      "metadata": {
        "id": "FalXNYaJPkoE"
      },
      "source": [
        "## モデルの構築\n",
        "`nn`モジュールの`Sequential`クラスを使い、`print(net)`で以下のように表示されるモデルを構築しましょう。\n",
        "```\n",
        "Sequential(\n",
        "  (0): Linear(in_features=64, out_features=128, bias=True)\n",
        "  (1): ReLU()\n",
        "  (2): Linear(in_features=128, out_features=64, bias=True)\n",
        "  (3): ReLU()\n",
        "  (4): Linear(in_features=64, out_features=10, bias=True)\n",
        ")\n",
        "```"
      ]
    },
    {
      "cell_type": "code",
      "metadata": {
        "id": "SuqqZmsh_jNK",
        "colab": {
          "base_uri": "https://localhost:8080/"
        },
        "outputId": "97da8b2d-9a1c-4447-e968-bb273e7201e2"
      },
      "source": [
        "from torch import nn\n",
        "\n",
        "net = nn.Sequential(\n",
        "    # ------- ここからコードを記述 -------\n",
        "    nn.Linear(64, 128),\n",
        "    nn.ReLU(),\n",
        "    nn.Linear(128, 64),\n",
        "    nn.ReLU(),\n",
        "    nn.Linear(64, 10)\n",
        "    # ------- ここまで -------\n",
        ")\n",
        "print(net)"
      ],
      "execution_count": 2,
      "outputs": [
        {
          "output_type": "stream",
          "name": "stdout",
          "text": [
            "Sequential(\n",
            "  (0): Linear(in_features=64, out_features=128, bias=True)\n",
            "  (1): ReLU()\n",
            "  (2): Linear(in_features=128, out_features=64, bias=True)\n",
            "  (3): ReLU()\n",
            "  (4): Linear(in_features=64, out_features=10, bias=True)\n",
            ")\n"
          ]
        }
      ]
    },
    {
      "cell_type": "markdown",
      "metadata": {
        "id": "qsW5zCKhQE9p"
      },
      "source": [
        "## 学習\n",
        "モデルを訓練します。  \n",
        "最適化アルゴリズムの設定をしましょう。  \n",
        "最適化アルゴリズムは、以下のページから好きなものを選択してください。  \n",
        "https://pytorch.org/docs/stable/optim.html\n",
        "\n",
        "\n"
      ]
    },
    {
      "cell_type": "code",
      "metadata": {
        "id": "u6zwN3nArbGC",
        "colab": {
          "base_uri": "https://localhost:8080/"
        },
        "outputId": "5f92f0b7-04e1-4ac0-8baa-62a288a5461b"
      },
      "source": [
        "from torch import optim\n",
        "\n",
        "# 交差エントロピー誤差関数\n",
        "loss_fnc = nn.CrossEntropyLoss()\n",
        "\n",
        "# 最適化アルゴリズム\n",
        "optimizer = optim.SGD(net.parameters(), lr=0.01)\n",
        "\n",
        "# 損失のログ\n",
        "record_loss_train = []\n",
        "record_loss_test = []\n",
        "\n",
        "# 1000エポック学習\n",
        "for i in range(1000):\n",
        "\n",
        "    # 勾配を0に\n",
        "    optimizer.zero_grad()\n",
        "    \n",
        "    # 順伝播\n",
        "    y_train = net(x_train)\n",
        "    y_test = net(x_test)\n",
        "    \n",
        "    # 誤差を求める\n",
        "    loss_train = loss_fnc(y_train, t_train)\n",
        "    loss_test = loss_fnc(y_test, t_test)\n",
        "    record_loss_train.append(loss_train.item())\n",
        "    record_loss_test.append(loss_test.item())\n",
        "\n",
        "    # 逆伝播（勾配を求める）\n",
        "    loss_train.backward()\n",
        "    \n",
        "    # パラメータの更新\n",
        "    optimizer.step()\n",
        "\n",
        "    if i%100 == 0:\n",
        "        print(\"Epoch:\", i, \"Loss_Train:\", loss_train.item(), \"Loss_Test:\", loss_test.item())"
      ],
      "execution_count": 3,
      "outputs": [
        {
          "output_type": "stream",
          "name": "stdout",
          "text": [
            "Epoch: 0 Loss_Train: 2.754333019256592 Loss_Test: 2.782325506210327\n",
            "Epoch: 100 Loss_Train: 0.3653141260147095 Loss_Test: 0.3780445456504822\n",
            "Epoch: 200 Loss_Train: 0.19143040478229523 Loss_Test: 0.22563523054122925\n",
            "Epoch: 300 Loss_Train: 0.13576538860797882 Loss_Test: 0.1811671108007431\n",
            "Epoch: 400 Loss_Train: 0.10628854483366013 Loss_Test: 0.15894435346126556\n",
            "Epoch: 500 Loss_Train: 0.08696656674146652 Loss_Test: 0.14534437656402588\n",
            "Epoch: 600 Loss_Train: 0.07303904742002487 Loss_Test: 0.13582417368888855\n",
            "Epoch: 700 Loss_Train: 0.06243514269590378 Loss_Test: 0.128996342420578\n",
            "Epoch: 800 Loss_Train: 0.054069940000772476 Loss_Test: 0.12396707385778427\n",
            "Epoch: 900 Loss_Train: 0.047345004975795746 Loss_Test: 0.1200050413608551\n"
          ]
        }
      ]
    },
    {
      "cell_type": "markdown",
      "metadata": {
        "id": "rJwwrWTw43rx"
      },
      "source": [
        "## 誤差の推移"
      ]
    },
    {
      "cell_type": "code",
      "metadata": {
        "id": "OaJx4swE45XI",
        "colab": {
          "base_uri": "https://localhost:8080/",
          "height": 279
        },
        "outputId": "41091e5c-6d09-4f69-bda7-d44cfa3bff4b"
      },
      "source": [
        "import matplotlib.pyplot as plt\n",
        "\n",
        "plt.plot(range(len(record_loss_train)), record_loss_train, label=\"Train\")\n",
        "plt.plot(range(len(record_loss_test)), record_loss_test, label=\"Test\")\n",
        "plt.legend()\n",
        "\n",
        "plt.xlabel(\"Epochs\")\n",
        "plt.ylabel(\"Error\")\n",
        "plt.show()"
      ],
      "execution_count": 4,
      "outputs": [
        {
          "output_type": "display_data",
          "data": {
            "image/png": "[encoded data removed]",
            "text/plain": [
              "<Figure size 432x288 with 1 Axes>"
            ]
          },
          "metadata": {
            "needs_background": "light"
          }
        }
      ]
    },
    {
      "cell_type": "markdown",
      "metadata": {
        "id": "iMrpac0m4Nct"
      },
      "source": [
        "## 正解率"
      ]
    },
    {
      "cell_type": "code",
      "metadata": {
        "id": "IRkGCYMM_N35",
        "colab": {
          "base_uri": "https://localhost:8080/"
        },
        "outputId": "23027a42-084e-40b3-9e7c-42abf16e7283"
      },
      "source": [
        "y_test = net(x_test)\n",
        "count = (y_test.argmax(1) == t_test).sum().item()\n",
        "print(\"正解率:\", str(count/len(y_test)*100) + \"%\")"
      ],
      "execution_count": 5,
      "outputs": [
        {
          "output_type": "stream",
          "name": "stdout",
          "text": [
            "正解率: 96.44444444444444%\n"
          ]
        }
      ]
    },
    {
      "cell_type": "markdown",
      "metadata": {
        "id": "maAJN2wa0l1D"
      },
      "source": [
        "# 解答例\n",
        "以下は、どうしても手がかりがないときのみ参考にしましょう。"
      ]
    },
    {
      "cell_type": "code",
      "metadata": {
        "id": "rQagvzyDmDA5"
      },
      "source": [
        "from torch import nn\n",
        "\n",
        "net = nn.Sequential(\n",
        "    # ------- ここからコードを記述 -------\n",
        "    nn.Linear(64, 128),  # 全結合層\n",
        "    nn.ReLU(),          # ReLU\n",
        "    nn.Linear(128, 64),\n",
        "    nn.ReLU(),\n",
        "    nn.Linear(64, 10)\n",
        "    # ------- ここまで -------\n",
        ")\n",
        "print(net)"
      ],
      "execution_count": null,
      "outputs": []
    },
    {
      "cell_type": "code",
      "metadata": {
        "id": "ARNSvRFTmDI1"
      },
      "source": [
        "from torch import optim\n",
        "\n",
        "# 交差エントロピー誤差関数\n",
        "loss_fnc = nn.CrossEntropyLoss()\n",
        "\n",
        "# 最適化アルゴリズム\n",
        "optimizer = optim.Adam(net.parameters())  # ここにコードを記述\n",
        "\n",
        "# 損失のログ\n",
        "record_loss_train = []\n",
        "record_loss_test = []\n",
        "\n",
        "# 1000エポック学習\n",
        "for i in range(1000):\n",
        "\n",
        "    # 勾配を0に\n",
        "    optimizer.zero_grad()\n",
        "    \n",
        "    # 順伝播\n",
        "    y_train = net(x_train)\n",
        "    y_test = net(x_test)\n",
        "    \n",
        "    # 誤差を求める\n",
        "    loss_train = loss_fnc(y_train, t_train)\n",
        "    loss_test = loss_fnc(y_test, t_test)\n",
        "    record_loss_train.append(loss_train.item())\n",
        "    record_loss_test.append(loss_test.item())\n",
        "\n",
        "    # 逆伝播（勾配を求める）\n",
        "    loss_train.backward()\n",
        "    \n",
        "    # パラメータの更新\n",
        "    optimizer.step()\n",
        "\n",
        "    if i%100 == 0:\n",
        "        print(\"Epoch:\", i, \"Loss_Train:\", loss_train.item(), \"Loss_Test:\", loss_test.item())"
      ],
      "execution_count": null,
      "outputs": []
    }
  ]
}